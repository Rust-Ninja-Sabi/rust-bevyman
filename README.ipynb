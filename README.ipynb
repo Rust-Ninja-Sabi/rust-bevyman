{
 "cells": [
  {
   "cell_type": "markdown",
   "id": "f6970cf9",
   "metadata": {},
   "source": [
    "# bevyman - creating a 3D game with rust and bevy"
   ]
  },
  {
   "cell_type": "markdown",
   "id": "19c2181e",
   "metadata": {},
   "source": [
    "My first 3D game with rust(https://www.rust-lang.org) and the bevy framework(https://bevyengine.org).\n",
    "\n",
    "I am inspired by the classic computer game #pacman."
   ]
  },
  {
   "cell_type": "markdown",
   "id": "331290fa",
   "metadata": {},
   "source": [
    "## 1. Step _ using a sphere as player"
   ]
  },
  {
   "cell_type": "markdown",
   "id": "d2c3fc1d",
   "metadata": {},
   "source": [
    "<img src=\"img/step1.png\" width=\"256\" align=\"left\"><br><br><br><br><br><br><br><br>"
   ]
  },
  {
   "cell_type": "code",
   "execution_count": null,
   "id": "6627fd01",
   "metadata": {},
   "outputs": [],
   "source": [
    "extern crate bevy;\n",
    "use bevy::prelude::*;\n",
    "\n",
    "#[derive(Component)]\n",
    "struct Player;\n",
    "\n",
    "....\n",
    "\n",
    "commands.spawn_bundle(PbrBundle{\n",
    "        mesh: meshes.add(Mesh::from(shape::Icosphere { radius: 0.50, subdivisions: 32, })),\n",
    "        material:materials.add(Color::YELLOW.into()),\n",
    "        transform: Transform::from_xyz(0., 0., 0. ),\n",
    "        ..Default::default()\n",
    "    })\n",
    "    .insert(Player);"
   ]
  },
  {
   "cell_type": "markdown",
   "id": "94a9f7d2",
   "metadata": {},
   "source": [
    "## 2. Step _ add game grid "
   ]
  },
  {
   "cell_type": "markdown",
   "id": "07594cc3",
   "metadata": {},
   "source": [
    "<img src=\"img/step2.png\" width=\"256\" align=\"left\"><br><br><br><br><br><br><br><br>"
   ]
  },
  {
   "cell_type": "code",
   "execution_count": null,
   "id": "2370c686",
   "metadata": {},
   "outputs": [],
   "source": [
    "struct Gamegrid {\n",
    "    value: [[Gameobject;11];10] //col row\n",
    "}\n",
    "impl Default for Gamegrid{\n",
    "    fn default() -> Self {\n",
    "        use self::Gameobject::*;\n",
    "        Self {\n",
    "            value:[[WallObject,WallObject,WallObject,WallObject,WallObject,FoodObject,WallObject,WallObject,WallObject,WallObject,WallObject],\n",
    "                   [WallObject,PowerObject,FoodObject,FoodObject,FoodObject,FoodObject,FoodObject,FoodObject,FoodObject,FoodObject,WallObject],\n",
    "                   ...\n",
    "                   [WallObject,FoodObject,FoodObject,FoodObject,FoodObject,Bevyman,FoodObject,FoodObject,FoodObject,PowerObject,WallObject],\n",
    "                   [WallObject,WallObject,WallObject,WallObject,WallObject,FoodObject,WallObject,WallObject,WallObject,WallObject,WallObject]]\n",
    "        }\n",
    "    }\n",
    "}"
   ]
  },
  {
   "cell_type": "code",
   "execution_count": null,
   "id": "b11c11f0",
   "metadata": {},
   "outputs": [],
   "source": [
    "....\n",
    "for (y, row) in gamegrid.value.iter().enumerate() {\n",
    "        for (x, col) in row.iter().enumerate() {\n",
    "            match col {\n",
    "                Gameobject::Bevyman => { \n",
    "                    commands.spawn_bundle(PbrBundle{\n",
    "                        mesh: meshes.add(Mesh::from(shape::Icosphere { radius: 0.50, subdivisions: 32, })),\n",
    "                        material:materials.add(Color::YELLOW.into()),\n",
    "                        transform: Transform::from_translation(gamegrid.to3d(x,y,0.5)),\n",
    "                        ..Default::default()\n",
    "                    })\n",
    "                    .insert(Player);\n",
    "                },\n",
    "                Gameobject::FoodObject => {\n",
    "                    commands.spawn_bundle(PbrBundle"
   ]
  },
  {
   "cell_type": "markdown",
   "id": "cd8d5959",
   "metadata": {},
   "source": [
    "## 3. Step _ move player without collision"
   ]
  },
  {
   "cell_type": "markdown",
   "id": "c927bd89",
   "metadata": {},
   "source": [
    "<img src=\"img/step3.gif\" width=\"256\" align=\"left\"><br><br><br><br><br><br><br><br>"
   ]
  },
  {
   "cell_type": "code",
   "execution_count": null,
   "id": "b577b70f",
   "metadata": {},
   "outputs": [],
   "source": [
    "fn move_player(\n",
    "    time:Res<Time>,\n",
    "    keyboard_input:Res<Input<KeyCode>>,\n",
    "    mut query: Query<(&mut Transform, With<Player>)>\n",
    "){\n",
    "    for (mut transform,_) in query.iter_mut() {\n",
    "        let mut direction = Vec3::new(0.,0.,0.);\n",
    "        if keyboard_input.pressed(KeyCode::Left) {\n",
    "            direction = Vec3::new(-1.0,0.,0.)\n",
    "        } else if keyboard_input.pressed(KeyCode::Right) {\n",
    "            direction = Vec3::new(1.0,0.,0.)\n",
    "        } else if keyboard_input.pressed(KeyCode::Up) {\n",
    "            direction = Vec3::new(0.,0.,-1.)\n",
    "        } else if keyboard_input.pressed(KeyCode::Down) {\n",
    "            direction = Vec3::new(0.,0.,1.)\n",
    "        }\n",
    "        transform.translation = transform.translation + direction * PLAYER_SPEED * time.delta_seconds();\n",
    "    }  \n",
    "}"
   ]
  },
  {
   "cell_type": "markdown",
   "id": "223eb062",
   "metadata": {},
   "source": [
    "## 4. Step _ player collides with wall and food"
   ]
  },
  {
   "cell_type": "markdown",
   "id": "b973b0ed",
   "metadata": {},
   "source": [
    "<img src=\"img/step4.gif\" width=\"256\" align=\"left\"><br><br><br><br><br><br><br><br>"
   ]
  },
  {
   "cell_type": "code",
   "execution_count": null,
   "id": "85a18f9c",
   "metadata": {},
   "outputs": [],
   "source": [
    "   // wall -> back to old position\n",
    "    if gamegrid.wall_in_distance(transform.translation,0.4) {\n",
    "       transform.translation = collidable.old_position.clone();\n",
    "    } else {\n",
    "        collidable.old_position = transform.translation.clone();\n",
    "    }\n",
    "    // food -> eat\n",
    "    if gamegrid.food_at_pos(transform.translation) {\n",
    "\n",
    "        for (e, food_transform, _,_) in food_query.iter(){\n",
    "            if food_transform.translation.distance(transform.translation)<0.2{\n",
    "                commands.entity(e).despawn();\n",
    "                let x = gamegrid.to_map_x(food_transform.translation.x, food_transform.translation.y, food_transform.translation.z);\n",
    "                let y = gamegrid.to_map_y(food_transform.translation.x, food_transform.translation.y, food_transform.translation.z);\n",
    "                gamegrid.value[y][x]=Gameobject::Empty;\n",
    "            }\n",
    "        }\n",
    "        score.foodcounter -=1;\n",
    "        if score.foodcounter == 0 {\n",
    "            //win\n",
    "        }\n",
    "        score.points += 20;\n",
    "    }"
   ]
  }
 ],
 "metadata": {
  "kernelspec": {
   "display_name": "Rust",
   "language": "rust",
   "name": "rust"
  },
  "language_info": {
   "codemirror_mode": "rust",
   "file_extension": ".rs",
   "mimetype": "text/rust",
   "name": "Rust",
   "pygment_lexer": "rust",
   "version": ""
  }
 },
 "nbformat": 4,
 "nbformat_minor": 5
}
