{
 "cells": [
  {
   "cell_type": "markdown",
   "id": "f6970cf9",
   "metadata": {},
   "source": [
    "# bevyman - creating a 3D game with rust and bevy"
   ]
  },
  {
   "cell_type": "markdown",
   "id": "19c2181e",
   "metadata": {},
   "source": [
    "My first 3D game with rust(https://www.rust-lang.org) and the bevy framework(https://bevyengine.org).\n",
    "\n",
    "I am inspired by the classic computer game #pacman."
   ]
  },
  {
   "cell_type": "markdown",
   "id": "331290fa",
   "metadata": {},
   "source": [
    "## 1. Step _ using a sphere as player"
   ]
  },
  {
   "cell_type": "markdown",
   "id": "d2c3fc1d",
   "metadata": {},
   "source": [
    "<img src=\"img/step1.png\" width=\"256\" align=\"left\"><br><br><br><br><br><br>"
   ]
  },
  {
   "cell_type": "code",
   "execution_count": null,
   "id": "6627fd01",
   "metadata": {},
   "outputs": [],
   "source": [
    "extern crate bevy;\n",
    "use bevy::prelude::*;\n",
    "\n",
    "#[derive(Component)]\n",
    "struct Player;\n",
    "\n",
    "....\n",
    "\n",
    "commands.spawn_bundle(PbrBundle{\n",
    "        mesh: meshes.add(Mesh::from(shape::Icosphere { radius: 0.50, subdivisions: 32, })),\n",
    "        material:materials.add(Color::YELLOW.into()),\n",
    "        transform: Transform::from_xyz(0., 0., 0. ),\n",
    "        ..Default::default()\n",
    "    })\n",
    "    .insert(Player);"
   ]
  }
 ],
 "metadata": {
  "kernelspec": {
   "display_name": "Rust",
   "language": "rust",
   "name": "rust"
  },
  "language_info": {
   "codemirror_mode": "rust",
   "file_extension": ".rs",
   "mimetype": "text/rust",
   "name": "Rust",
   "pygment_lexer": "rust",
   "version": ""
  }
 },
 "nbformat": 4,
 "nbformat_minor": 5
}
